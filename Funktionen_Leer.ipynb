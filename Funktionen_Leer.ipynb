{
  "nbformat": 4,
  "nbformat_minor": 0,
  "metadata": {
    "colab": {
      "name": "Funktionen_Leer.ipynb",
      "provenance": [],
      "collapsed_sections": [],
      "authorship_tag": "ABX9TyNr+oQFnYrzfDveRZOihmeW",
      "include_colab_link": true
    },
    "kernelspec": {
      "name": "python3",
      "display_name": "Python 3"
    },
    "language_info": {
      "name": "python"
    }
  },
  "cells": [
    {
      "cell_type": "markdown",
      "metadata": {
        "id": "view-in-github",
        "colab_type": "text"
      },
      "source": [
        "<a href=\"https://colab.research.google.com/github/MFischbock/DRGesture_Player/blob/main/Funktionen_Leer.ipynb\" target=\"_parent\"><img src=\"https://colab.research.google.com/assets/colab-badge.svg\" alt=\"Open In Colab\"/></a>"
      ]
    },
    {
      "cell_type": "markdown",
      "metadata": {
        "id": "psQzALfQycbj"
      },
      "source": [
        "# Funktionen\n",
        "Bisher haben wir einen kleinen Einblick in die Welt der Funktionen erhalten. \n",
        "Bsp:"
      ]
    },
    {
      "cell_type": "code",
      "metadata": {
        "colab": {
          "base_uri": "https://localhost:8080/"
        },
        "id": "euIqKcHAxRu8",
        "outputId": "b35483d9-b575-4e97-d00f-089aec36d730"
      },
      "source": [
        "len(\" Dies ist ein String\")"
      ],
      "execution_count": null,
      "outputs": [
        {
          "output_type": "execute_result",
          "data": {
            "text/plain": [
              "20"
            ]
          },
          "metadata": {
            "tags": []
          },
          "execution_count": 1
        }
      ]
    },
    {
      "cell_type": "markdown",
      "metadata": {
        "id": "qZBQmjqIyv-b"
      },
      "source": [
        "Funktionen bestehen aus:\n",
        "\n",
        "1.   **Funktionsnamen**\n",
        "2.   **Liste von Funktionsparametern**\n",
        "3.   **Funktionskörper, Codeblock**\n",
        "\n",
        "Eine Funktion kann einen Rückgabewert haben (siehe len())\n",
        "\n",
        "Sinn und Zweck: Redundanz vermeiden, Lesbarkeit erhöhen\n"
      ]
    },
    {
      "cell_type": "code",
      "metadata": {
        "colab": {
          "base_uri": "https://localhost:8080/"
        },
        "id": "OAiEWecMzswY",
        "outputId": "7c73cc1f-c1e4-42b3-f8ff-50e14c71fbe4"
      },
      "source": [
        "ergebnis = range(0,20,2)\n",
        "type(ergebnis)"
      ],
      "execution_count": null,
      "outputs": [
        {
          "output_type": "execute_result",
          "data": {
            "text/plain": [
              "range"
            ]
          },
          "metadata": {
            "tags": []
          },
          "execution_count": 9
        }
      ]
    },
    {
      "cell_type": "markdown",
      "metadata": {
        "id": "QDG9gWcp0Fb7"
      },
      "source": [
        "Der Funktionsaufruf lautet: range. \n",
        "Dahinter liegende Klammer enthält (wenn sie nicht leer gelassen werden muss) Parameter, die durch Komma getrennt werden. Anzahl der Parameter hängt von der Definition ab. Die Gesamtheit der Parameter nennt man Funktionsschnuttstelle.\n",
        "Über die Funktionsschnittstelle übergebene Instanzen nennt man Argumente. Paramter sind Platzhalter für Argumente. \n",
        "Am Ende wird ein Rückgabewert ausgeben und ersetzt den Funktionsaufruf. "
      ]
    },
    {
      "cell_type": "code",
      "metadata": {
        "colab": {
          "base_uri": "https://localhost:8080/"
        },
        "id": "nMBSA6_M1cFz",
        "outputId": "fac9dd4a-9136-4ab4-a351-e60222419f60"
      },
      "source": [
        "# Aufgabe: Darstellen der Rückgabewerte für range()\n"
      ],
      "execution_count": null,
      "outputs": [
        {
          "output_type": "stream",
          "text": [
            "0\n",
            "2\n",
            "4\n",
            "6\n",
            "8\n",
            "10\n",
            "12\n",
            "14\n",
            "16\n",
            "18\n"
          ],
          "name": "stdout"
        }
      ]
    },
    {
      "cell_type": "code",
      "metadata": {
        "colab": {
          "base_uri": "https://localhost:8080/"
        },
        "id": "FVqgS-TJ1tRS",
        "outputId": "cde228eb-d342-4c3f-a39d-8d11f9cbf808"
      },
      "source": [
        "# Aufgabe: Überführung in eine Liste:\n"
      ],
      "execution_count": null,
      "outputs": [
        {
          "output_type": "execute_result",
          "data": {
            "text/plain": [
              "(0, 2, 4, 6, 8, 10, 12, 14, 16, 18)"
            ]
          },
          "metadata": {
            "tags": []
          },
          "execution_count": 12
        }
      ]
    },
    {
      "cell_type": "markdown",
      "metadata": {
        "id": "Hfmv8qa82WPZ"
      },
      "source": [
        "# Schreiben eigener Funktionen\n",
        "\n",
        "Wir benötigen dafür:\n",
        "*   Funktionsnamen\n",
        "*   Schnittstelle\n",
        "*   Rückgabewert (sonst None)"
      ]
    },
    {
      "cell_type": "markdown",
      "metadata": {
        "id": "RDWD5JaT2_Tq"
      },
      "source": [
        "Es wird das Schlüßelwort def benutzt und die Funktion hat folgende Struktur:\n",
        "\n",
        "def Funktionsname(parameter_1, ..., parameter_n):\n",
        "\n",
        ">   Anweisung\n",
        "\n",
        ">   .\n",
        "\n",
        ">   .\n",
        " \n",
        ">   .\n",
        "\n",
        ">   Anweisung"
      ]
    },
    {
      "cell_type": "code",
      "metadata": {
        "id": "tlzEFV_s2Usd"
      },
      "source": [
        ""
      ],
      "execution_count": null,
      "outputs": []
    },
    {
      "cell_type": "code",
      "metadata": {
        "id": "esUt3n0I4g6-"
      },
      "source": [
        ""
      ],
      "execution_count": null,
      "outputs": []
    },
    {
      "cell_type": "code",
      "metadata": {
        "id": "GQQr3g4l5bs1"
      },
      "source": [
        ""
      ],
      "execution_count": null,
      "outputs": []
    },
    {
      "cell_type": "code",
      "metadata": {
        "id": "WAByqgya5y57"
      },
      "source": [
        ""
      ],
      "execution_count": null,
      "outputs": []
    },
    {
      "cell_type": "code",
      "metadata": {
        "id": "24QggkTC6Rbz"
      },
      "source": [
        ""
      ],
      "execution_count": null,
      "outputs": []
    },
    {
      "cell_type": "code",
      "metadata": {
        "id": "PeX67rlg6cZp"
      },
      "source": [
        ""
      ],
      "execution_count": null,
      "outputs": []
    },
    {
      "cell_type": "code",
      "metadata": {
        "id": "QNcgRz4_7cFh"
      },
      "source": [
        "# Aufgabe: Funktion zur Ausgabe des Betrags:\n"
      ],
      "execution_count": null,
      "outputs": []
    },
    {
      "cell_type": "code",
      "metadata": {
        "id": "77r671y88abn"
      },
      "source": [
        ""
      ],
      "execution_count": null,
      "outputs": []
    },
    {
      "cell_type": "markdown",
      "metadata": {
        "id": "9eFq24iW9dhk"
      },
      "source": [
        "# Optionale Parameter\n",
        "Funktion: range()\n",
        "\n",
        "Nicht immer werden alle Parameter benötigt. Defaults setzt man durch ein Gleichheitszeichen. "
      ]
    },
    {
      "cell_type": "code",
      "metadata": {
        "id": "oqnQcFln_mHI"
      },
      "source": [
        "# Aufgabe: Definiere eine Funktion zur Berechnung der Summe aus 2 bis 4 Summanden\n"
      ],
      "execution_count": null,
      "outputs": []
    },
    {
      "cell_type": "code",
      "metadata": {
        "colab": {
          "base_uri": "https://localhost:8080/"
        },
        "id": "hG8BN5Ux_2ug",
        "outputId": "34204d32-721d-4847-d743-37c1012103e4"
      },
      "source": [
        ""
      ],
      "execution_count": null,
      "outputs": [
        {
          "output_type": "stream",
          "text": [
            "10\n"
          ],
          "name": "stdout"
        }
      ]
    },
    {
      "cell_type": "markdown",
      "metadata": {
        "id": "ofSp10UcALc8"
      },
      "source": [
        "Wichtig: optionale Paramter dürfen nur am Ende stehen!\n"
      ]
    },
    {
      "cell_type": "code",
      "metadata": {
        "colab": {
          "base_uri": "https://localhost:8080/"
        },
        "id": "IyXRGZO0BBYE",
        "outputId": "ac1a2da3-b031-49b8-90a1-9debb5aebe1a"
      },
      "source": [
        "# Beispiel print()-Funktion\n"
      ],
      "execution_count": null,
      "outputs": [
        {
          "output_type": "stream",
          "text": [
            "1\n",
            "1 2\n",
            "1 2 3\n"
          ],
          "name": "stdout"
        }
      ]
    },
    {
      "cell_type": "code",
      "metadata": {
        "id": "DgWAhu29Bq9k"
      },
      "source": [
        "\n"
      ],
      "execution_count": null,
      "outputs": []
    },
    {
      "cell_type": "code",
      "metadata": {
        "id": "C-JUdJC0CVgt"
      },
      "source": [
        "# Aufgabe: Übergebe nun unterschiedliche Paramter\n"
      ],
      "execution_count": null,
      "outputs": []
    },
    {
      "cell_type": "markdown",
      "metadata": {
        "id": "yt8mpZqfN_KT"
      },
      "source": [
        "Intermezzo"
      ]
    },
    {
      "cell_type": "code",
      "metadata": {
        "id": "TIbe91jJG7nv"
      },
      "source": [
        ""
      ],
      "execution_count": null,
      "outputs": []
    },
    {
      "cell_type": "code",
      "metadata": {
        "id": "aX45JvLaJTf2"
      },
      "source": [
        "# Aufgabe: Erweitere die SummenFunktion nun so, dass nun beliebig viele \n",
        "# Summanden empfangen kann\n",
        "\n"
      ],
      "execution_count": null,
      "outputs": []
    },
    {
      "cell_type": "code",
      "metadata": {
        "id": "Wkx9HiquJ8hY"
      },
      "source": [
        "# Funktionstest\n"
      ],
      "execution_count": null,
      "outputs": []
    },
    {
      "cell_type": "code",
      "metadata": {
        "id": "58YTPRuAK4n3"
      },
      "source": [
        "# Das selbe funktioniert auch für Keyword-Argumente, jedoch werden keine Tupeln\n",
        "# übergeben sondern Dictionarys (und es wird das ** Literat benutzt)\n",
        "\n"
      ],
      "execution_count": null,
      "outputs": []
    },
    {
      "cell_type": "code",
      "metadata": {
        "id": "nifplJKJMQ1k"
      },
      "source": [
        "# Aufgabe kombiniere beide Methoden\n"
      ],
      "execution_count": null,
      "outputs": []
    },
    {
      "cell_type": "code",
      "metadata": {
        "id": "1BCo0wg6NqpM"
      },
      "source": [
        "# Reine Schlüsselwortparameter\n"
      ],
      "execution_count": null,
      "outputs": []
    },
    {
      "cell_type": "code",
      "metadata": {
        "id": "GDcD_21jOIBO"
      },
      "source": [
        "# Aufgabe: Prduziere einen Feheler\n"
      ],
      "execution_count": null,
      "outputs": []
    },
    {
      "cell_type": "code",
      "metadata": {
        "colab": {
          "base_uri": "https://localhost:8080/"
        },
        "id": "ijH9Hi-AORsN",
        "outputId": "2ff68206-ceb0-445a-8d93-908dcac05d42"
      },
      "source": [
        "# Aufgabe: und nun richtig \n"
      ],
      "execution_count": null,
      "outputs": [
        {
          "output_type": "stream",
          "text": [
            "1 2 (3, 4, 5, 6, 7, 8) 9 0\n"
          ],
          "name": "stdout"
        }
      ]
    },
    {
      "cell_type": "code",
      "metadata": {
        "id": "3DLo7J2NOl-r"
      },
      "source": [
        "# Aufgabe: Baue default-Werte in die Funktion\n"
      ],
      "execution_count": null,
      "outputs": []
    },
    {
      "cell_type": "code",
      "metadata": {
        "colab": {
          "base_uri": "https://localhost:8080/"
        },
        "id": "afdoofZFPJvW",
        "outputId": "39253778-6bcf-4f5e-ae03-5f9a11412704"
      },
      "source": [
        ""
      ],
      "execution_count": null,
      "outputs": [
        {
          "output_type": "stream",
          "text": [
            "1 2 (3, 4, 5, 6) 4 5\n"
          ],
          "name": "stdout"
        }
      ]
    },
    {
      "cell_type": "code",
      "metadata": {
        "colab": {
          "base_uri": "https://localhost:8080/"
        },
        "id": "jG7z263vPVRa",
        "outputId": "f9cae8a9-f8ab-40d8-e359-13b444cd8040"
      },
      "source": [
        "# Aufgabe: Übergebe nun beliebig viele Schlüsselwortparameter:\n"
      ],
      "execution_count": null,
      "outputs": [
        {
          "output_type": "stream",
          "text": [
            "1 2 (3, 4, 5, 6, 7) string 3 {'f': 'test', 'g': 69}\n",
            "1 1 () 4 3 {}\n"
          ],
          "name": "stdout"
        }
      ]
    },
    {
      "cell_type": "code",
      "metadata": {
        "colab": {
          "base_uri": "https://localhost:8080/"
        },
        "id": "mUV-ShnpQFaH",
        "outputId": "967c25d8-8af1-41ea-d8b4-949ef7d9f871"
      },
      "source": [
        "# Beliebig viele Schlüsselwortparameter ohne undlich viele Postionsparameter:\n"
      ],
      "execution_count": null,
      "outputs": [
        {
          "output_type": "stream",
          "text": [
            "1 2 test 1\n"
          ],
          "name": "stdout"
        }
      ]
    },
    {
      "cell_type": "code",
      "metadata": {
        "colab": {
          "base_uri": "https://localhost:8080/",
          "height": 130
        },
        "id": "wkt8lT4vQuDJ",
        "outputId": "b9042b57-9ee5-4e56-cbf6-e595b32ccd0f"
      },
      "source": [
        "# Reine Positionsparameter:\n"
      ],
      "execution_count": null,
      "outputs": [
        {
          "output_type": "error",
          "ename": "SyntaxError",
          "evalue": "ignored",
          "traceback": [
            "\u001b[0;36m  File \u001b[0;32m\"<ipython-input-34-ee976841f83e>\"\u001b[0;36m, line \u001b[0;32m3\u001b[0m\n\u001b[0;31m    def f(a, b, /):\u001b[0m\n\u001b[0m                ^\u001b[0m\n\u001b[0;31mSyntaxError\u001b[0m\u001b[0;31m:\u001b[0m invalid syntax\n"
          ]
        }
      ]
    }
  ]
}